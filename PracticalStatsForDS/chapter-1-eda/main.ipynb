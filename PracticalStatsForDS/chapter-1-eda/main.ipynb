{
 "cells": [
  {
   "cell_type": "code",
   "execution_count": 2,
   "metadata": {},
   "outputs": [],
   "source": [
    "import pandas as pd\n",
    "import numpy as np\n",
    "import matplotlib.pyplot as plt\n",
    "import seaborn as sns\n",
    "import scipy.stats as stats\n"
   ]
  },
  {
   "cell_type": "markdown",
   "metadata": {},
   "source": [
    "# Argentina Policy Analysis"
   ]
  },
  {
   "cell_type": "markdown",
   "metadata": {},
   "source": [
    "Importing GDP dataset. This dataset was provided by a Kaggle user here: https://www.kaggle.com/datasets/alejopaullier/-gdp-by-country-1999-2022/data. This dataset is in the billions of USD."
   ]
  },
  {
   "cell_type": "code",
   "execution_count": 6,
   "metadata": {},
   "outputs": [],
   "source": [
    "gdp_df = pd.read_csv('./ArgentinaEconomicAnalysis/datasets/gdp_by_country_1999_2022.csv')"
   ]
  },
  {
   "cell_type": "code",
   "execution_count": 7,
   "metadata": {},
   "outputs": [
    {
     "data": {
      "text/html": [
       "<div>\n",
       "<style scoped>\n",
       "    .dataframe tbody tr th:only-of-type {\n",
       "        vertical-align: middle;\n",
       "    }\n",
       "\n",
       "    .dataframe tbody tr th {\n",
       "        vertical-align: top;\n",
       "    }\n",
       "\n",
       "    .dataframe thead th {\n",
       "        text-align: right;\n",
       "    }\n",
       "</style>\n",
       "<table border=\"1\" class=\"dataframe\">\n",
       "  <thead>\n",
       "    <tr style=\"text-align: right;\">\n",
       "      <th></th>\n",
       "      <th>Country</th>\n",
       "      <th>1999</th>\n",
       "      <th>2000</th>\n",
       "      <th>2001</th>\n",
       "      <th>2002</th>\n",
       "      <th>2003</th>\n",
       "      <th>2004</th>\n",
       "      <th>2005</th>\n",
       "      <th>2006</th>\n",
       "      <th>2007</th>\n",
       "      <th>...</th>\n",
       "      <th>2013</th>\n",
       "      <th>2014</th>\n",
       "      <th>2015</th>\n",
       "      <th>2016</th>\n",
       "      <th>2017</th>\n",
       "      <th>2018</th>\n",
       "      <th>2019</th>\n",
       "      <th>2020</th>\n",
       "      <th>2021</th>\n",
       "      <th>2022</th>\n",
       "    </tr>\n",
       "  </thead>\n",
       "  <tbody>\n",
       "    <tr>\n",
       "      <th>0</th>\n",
       "      <td>Afghanistan, Rep. of.</td>\n",
       "      <td>0</td>\n",
       "      <td>0</td>\n",
       "      <td>0</td>\n",
       "      <td>4.084</td>\n",
       "      <td>4.585</td>\n",
       "      <td>5.971</td>\n",
       "      <td>7.309</td>\n",
       "      <td>8.399</td>\n",
       "      <td>9.892</td>\n",
       "      <td>...</td>\n",
       "      <td>21.555</td>\n",
       "      <td>24.304</td>\n",
       "      <td>0</td>\n",
       "      <td>0</td>\n",
       "      <td>0</td>\n",
       "      <td>0</td>\n",
       "      <td>0</td>\n",
       "      <td>0</td>\n",
       "      <td>0</td>\n",
       "      <td>0</td>\n",
       "    </tr>\n",
       "    <tr>\n",
       "      <th>1</th>\n",
       "      <td>Albania</td>\n",
       "      <td>3.444</td>\n",
       "      <td>3.695</td>\n",
       "      <td>4.096</td>\n",
       "      <td>4.456</td>\n",
       "      <td>5.6</td>\n",
       "      <td>7.452</td>\n",
       "      <td>8.376</td>\n",
       "      <td>9.133</td>\n",
       "      <td>10.163</td>\n",
       "      <td>...</td>\n",
       "      <td>14.91</td>\n",
       "      <td>16.053</td>\n",
       "      <td>11.591</td>\n",
       "      <td>12.204</td>\n",
       "      <td>13.214</td>\n",
       "      <td>14.341</td>\n",
       "      <td>15.553</td>\n",
       "      <td>16.996</td>\n",
       "      <td>16.77</td>\n",
       "      <td>18.012</td>\n",
       "    </tr>\n",
       "    <tr>\n",
       "      <th>2</th>\n",
       "      <td>Algeria</td>\n",
       "      <td>48.845</td>\n",
       "      <td>54.749</td>\n",
       "      <td>55.181</td>\n",
       "      <td>57.053</td>\n",
       "      <td>68.013</td>\n",
       "      <td>85.016</td>\n",
       "      <td>102.38</td>\n",
       "      <td>114.322</td>\n",
       "      <td>116.158</td>\n",
       "      <td>...</td>\n",
       "      <td>190.432</td>\n",
       "      <td>203.449</td>\n",
       "      <td>175.077</td>\n",
       "      <td>181.71</td>\n",
       "      <td>192.256</td>\n",
       "      <td>202.179</td>\n",
       "      <td>210.906</td>\n",
       "      <td>219.16</td>\n",
       "      <td>163.812</td>\n",
       "      <td>168.195</td>\n",
       "    </tr>\n",
       "    <tr>\n",
       "      <th>3</th>\n",
       "      <td>Angola</td>\n",
       "      <td>6.153</td>\n",
       "      <td>9.135</td>\n",
       "      <td>8.936</td>\n",
       "      <td>11.386</td>\n",
       "      <td>13.956</td>\n",
       "      <td>19.8</td>\n",
       "      <td>30.632</td>\n",
       "      <td>43.759</td>\n",
       "      <td>55.37</td>\n",
       "      <td>...</td>\n",
       "      <td>136.415</td>\n",
       "      <td>151.089</td>\n",
       "      <td>102.011</td>\n",
       "      <td>98.815</td>\n",
       "      <td>105.369</td>\n",
       "      <td>112.533</td>\n",
       "      <td>119.403</td>\n",
       "      <td>127.15</td>\n",
       "      <td>70.339</td>\n",
       "      <td>74.953</td>\n",
       "    </tr>\n",
       "    <tr>\n",
       "      <th>4</th>\n",
       "      <td>Antigua and Barbuda</td>\n",
       "      <td>0.652</td>\n",
       "      <td>0.678</td>\n",
       "      <td>0.71</td>\n",
       "      <td>0.718</td>\n",
       "      <td>0.754</td>\n",
       "      <td>0.818</td>\n",
       "      <td>0.875</td>\n",
       "      <td>0.962</td>\n",
       "      <td>1.026</td>\n",
       "      <td>...</td>\n",
       "      <td>1.404</td>\n",
       "      <td>1.494</td>\n",
       "      <td>1.285</td>\n",
       "      <td>1.328</td>\n",
       "      <td>1.386</td>\n",
       "      <td>1.458</td>\n",
       "      <td>1.536</td>\n",
       "      <td>1.617</td>\n",
       "      <td>1.405</td>\n",
       "      <td>1.534</td>\n",
       "    </tr>\n",
       "  </tbody>\n",
       "</table>\n",
       "<p>5 rows × 24 columns</p>\n",
       "</div>"
      ],
      "text/plain": [
       "                 Country    1999    2000    2001    2002    2003    2004  \\\n",
       "0  Afghanistan, Rep. of.       0       0       0   4.084   4.585   5.971   \n",
       "1                Albania   3.444   3.695   4.096   4.456     5.6   7.452   \n",
       "2                Algeria  48.845  54.749  55.181  57.053  68.013  85.016   \n",
       "3                 Angola   6.153   9.135   8.936  11.386  13.956    19.8   \n",
       "4    Antigua and Barbuda   0.652   0.678    0.71   0.718   0.754   0.818   \n",
       "\n",
       "     2005     2006     2007  ...     2013     2014     2015    2016     2017  \\\n",
       "0   7.309    8.399    9.892  ...   21.555   24.304        0       0        0   \n",
       "1   8.376    9.133   10.163  ...    14.91   16.053   11.591  12.204   13.214   \n",
       "2  102.38  114.322  116.158  ...  190.432  203.449  175.077  181.71  192.256   \n",
       "3  30.632   43.759    55.37  ...  136.415  151.089  102.011  98.815  105.369   \n",
       "4   0.875    0.962    1.026  ...    1.404    1.494    1.285   1.328    1.386   \n",
       "\n",
       "      2018     2019    2020     2021     2022  \n",
       "0        0        0       0        0        0  \n",
       "1   14.341   15.553  16.996    16.77   18.012  \n",
       "2  202.179  210.906  219.16  163.812  168.195  \n",
       "3  112.533  119.403  127.15   70.339   74.953  \n",
       "4    1.458    1.536   1.617    1.405    1.534  \n",
       "\n",
       "[5 rows x 24 columns]"
      ]
     },
     "execution_count": 7,
     "metadata": {},
     "output_type": "execute_result"
    }
   ],
   "source": [
    "gdp_df.head()"
   ]
  },
  {
   "cell_type": "code",
   "execution_count": 8,
   "metadata": {},
   "outputs": [],
   "source": [
    "# Remove comma and convert string to float. \n",
    "gdp_2004 = gdp_df[\"2004\"].str.replace(',', '').astype(float)"
   ]
  },
  {
   "cell_type": "code",
   "execution_count": 10,
   "metadata": {},
   "outputs": [
    {
     "data": {
      "text/plain": [
       "230.4501277777778"
      ]
     },
     "execution_count": 10,
     "metadata": {},
     "output_type": "execute_result"
    }
   ],
   "source": [
    "# Mean of GDP in 2004\n",
    "gdp_2004.mean()"
   ]
  },
  {
   "cell_type": "code",
   "execution_count": 12,
   "metadata": {},
   "outputs": [
    {
     "data": {
      "text/plain": [
       "50.282694444444445"
      ]
     },
     "execution_count": 12,
     "metadata": {},
     "output_type": "execute_result"
    }
   ],
   "source": [
    "# Trimmed mean of GDP in 2004\n",
    "stats.trim_mean(gdp_2004, 0.1)"
   ]
  },
  {
   "cell_type": "code",
   "execution_count": 15,
   "metadata": {},
   "outputs": [],
   "source": [
    "argentina_gdp_df = df[df['Country'] == 'Argentina']"
   ]
  },
  {
   "cell_type": "code",
   "execution_count": 16,
   "metadata": {},
   "outputs": [
    {
     "data": {
      "text/html": [
       "<div>\n",
       "<style scoped>\n",
       "    .dataframe tbody tr th:only-of-type {\n",
       "        vertical-align: middle;\n",
       "    }\n",
       "\n",
       "    .dataframe tbody tr th {\n",
       "        vertical-align: top;\n",
       "    }\n",
       "\n",
       "    .dataframe thead th {\n",
       "        text-align: right;\n",
       "    }\n",
       "</style>\n",
       "<table border=\"1\" class=\"dataframe\">\n",
       "  <thead>\n",
       "    <tr style=\"text-align: right;\">\n",
       "      <th></th>\n",
       "      <th>Country</th>\n",
       "      <th>1999</th>\n",
       "      <th>2000</th>\n",
       "      <th>2001</th>\n",
       "      <th>2002</th>\n",
       "      <th>2003</th>\n",
       "      <th>2004</th>\n",
       "      <th>2005</th>\n",
       "      <th>2006</th>\n",
       "      <th>2007</th>\n",
       "      <th>...</th>\n",
       "      <th>2013</th>\n",
       "      <th>2014</th>\n",
       "      <th>2015</th>\n",
       "      <th>2016</th>\n",
       "      <th>2017</th>\n",
       "      <th>2018</th>\n",
       "      <th>2019</th>\n",
       "      <th>2020</th>\n",
       "      <th>2021</th>\n",
       "      <th>2022</th>\n",
       "    </tr>\n",
       "  </thead>\n",
       "  <tbody>\n",
       "    <tr>\n",
       "      <th>5</th>\n",
       "      <td>Argentina</td>\n",
       "      <td>283.523</td>\n",
       "      <td>284.204</td>\n",
       "      <td>268.697</td>\n",
       "      <td>97.732</td>\n",
       "      <td>127.643</td>\n",
       "      <td>151.958</td>\n",
       "      <td>181.549</td>\n",
       "      <td>212.702</td>\n",
       "      <td>247.096</td>\n",
       "      <td>...</td>\n",
       "      <td>329.332</td>\n",
       "      <td>347.731</td>\n",
       "      <td>578.705</td>\n",
       "      <td>578.692</td>\n",
       "      <td>589.585</td>\n",
       "      <td>602.868</td>\n",
       "      <td>617.386</td>\n",
       "      <td>633.889</td>\n",
       "      <td>455.172</td>\n",
       "      <td>483.765</td>\n",
       "    </tr>\n",
       "  </tbody>\n",
       "</table>\n",
       "<p>1 rows × 24 columns</p>\n",
       "</div>"
      ],
      "text/plain": [
       "     Country     1999     2000     2001    2002     2003     2004     2005  \\\n",
       "5  Argentina  283.523  284.204  268.697  97.732  127.643  151.958  181.549   \n",
       "\n",
       "      2006     2007  ...     2013     2014     2015     2016     2017  \\\n",
       "5  212.702  247.096  ...  329.332  347.731  578.705  578.692  589.585   \n",
       "\n",
       "      2018     2019     2020     2021     2022  \n",
       "5  602.868  617.386  633.889  455.172  483.765  \n",
       "\n",
       "[1 rows x 24 columns]"
      ]
     },
     "execution_count": 16,
     "metadata": {},
     "output_type": "execute_result"
    }
   ],
   "source": [
    "argentina_gdp_df.head()"
   ]
  },
  {
   "cell_type": "code",
   "execution_count": 17,
   "metadata": {},
   "outputs": [
    {
     "ename": "ParserError",
     "evalue": "Error tokenizing data. C error: Expected 3 fields in line 5, saw 69\n",
     "output_type": "error",
     "traceback": [
      "\u001b[1;31m---------------------------------------------------------------------------\u001b[0m",
      "\u001b[1;31mParserError\u001b[0m                               Traceback (most recent call last)",
      "Cell \u001b[1;32mIn[17], line 1\u001b[0m\n\u001b[1;32m----> 1\u001b[0m unemployment_rate_df \u001b[38;5;241m=\u001b[39m \u001b[43mpd\u001b[49m\u001b[38;5;241;43m.\u001b[39;49m\u001b[43mread_csv\u001b[49m\u001b[43m(\u001b[49m\u001b[38;5;124;43m'\u001b[39;49m\u001b[38;5;124;43m./ArgentinaEconomicAnalysis/datasets/unemployment_rate_data/API_SL.UEM.TOTL.ZS_DS2_en_csv_v2_277236.csv\u001b[39;49m\u001b[38;5;124;43m'\u001b[39;49m\u001b[43m)\u001b[49m\n",
      "File \u001b[1;32mc:\\Users\\cjthe\\.virtualenvs\\HandsOnML-WafCVtei\\Lib\\site-packages\\pandas\\io\\parsers\\readers.py:1026\u001b[0m, in \u001b[0;36mread_csv\u001b[1;34m(filepath_or_buffer, sep, delimiter, header, names, index_col, usecols, dtype, engine, converters, true_values, false_values, skipinitialspace, skiprows, skipfooter, nrows, na_values, keep_default_na, na_filter, verbose, skip_blank_lines, parse_dates, infer_datetime_format, keep_date_col, date_parser, date_format, dayfirst, cache_dates, iterator, chunksize, compression, thousands, decimal, lineterminator, quotechar, quoting, doublequote, escapechar, comment, encoding, encoding_errors, dialect, on_bad_lines, delim_whitespace, low_memory, memory_map, float_precision, storage_options, dtype_backend)\u001b[0m\n\u001b[0;32m   1013\u001b[0m kwds_defaults \u001b[38;5;241m=\u001b[39m _refine_defaults_read(\n\u001b[0;32m   1014\u001b[0m     dialect,\n\u001b[0;32m   1015\u001b[0m     delimiter,\n\u001b[1;32m   (...)\u001b[0m\n\u001b[0;32m   1022\u001b[0m     dtype_backend\u001b[38;5;241m=\u001b[39mdtype_backend,\n\u001b[0;32m   1023\u001b[0m )\n\u001b[0;32m   1024\u001b[0m kwds\u001b[38;5;241m.\u001b[39mupdate(kwds_defaults)\n\u001b[1;32m-> 1026\u001b[0m \u001b[38;5;28;01mreturn\u001b[39;00m \u001b[43m_read\u001b[49m\u001b[43m(\u001b[49m\u001b[43mfilepath_or_buffer\u001b[49m\u001b[43m,\u001b[49m\u001b[43m \u001b[49m\u001b[43mkwds\u001b[49m\u001b[43m)\u001b[49m\n",
      "File \u001b[1;32mc:\\Users\\cjthe\\.virtualenvs\\HandsOnML-WafCVtei\\Lib\\site-packages\\pandas\\io\\parsers\\readers.py:626\u001b[0m, in \u001b[0;36m_read\u001b[1;34m(filepath_or_buffer, kwds)\u001b[0m\n\u001b[0;32m    623\u001b[0m     \u001b[38;5;28;01mreturn\u001b[39;00m parser\n\u001b[0;32m    625\u001b[0m \u001b[38;5;28;01mwith\u001b[39;00m parser:\n\u001b[1;32m--> 626\u001b[0m     \u001b[38;5;28;01mreturn\u001b[39;00m \u001b[43mparser\u001b[49m\u001b[38;5;241;43m.\u001b[39;49m\u001b[43mread\u001b[49m\u001b[43m(\u001b[49m\u001b[43mnrows\u001b[49m\u001b[43m)\u001b[49m\n",
      "File \u001b[1;32mc:\\Users\\cjthe\\.virtualenvs\\HandsOnML-WafCVtei\\Lib\\site-packages\\pandas\\io\\parsers\\readers.py:1923\u001b[0m, in \u001b[0;36mTextFileReader.read\u001b[1;34m(self, nrows)\u001b[0m\n\u001b[0;32m   1916\u001b[0m nrows \u001b[38;5;241m=\u001b[39m validate_integer(\u001b[38;5;124m\"\u001b[39m\u001b[38;5;124mnrows\u001b[39m\u001b[38;5;124m\"\u001b[39m, nrows)\n\u001b[0;32m   1917\u001b[0m \u001b[38;5;28;01mtry\u001b[39;00m:\n\u001b[0;32m   1918\u001b[0m     \u001b[38;5;66;03m# error: \"ParserBase\" has no attribute \"read\"\u001b[39;00m\n\u001b[0;32m   1919\u001b[0m     (\n\u001b[0;32m   1920\u001b[0m         index,\n\u001b[0;32m   1921\u001b[0m         columns,\n\u001b[0;32m   1922\u001b[0m         col_dict,\n\u001b[1;32m-> 1923\u001b[0m     ) \u001b[38;5;241m=\u001b[39m \u001b[38;5;28;43mself\u001b[39;49m\u001b[38;5;241;43m.\u001b[39;49m\u001b[43m_engine\u001b[49m\u001b[38;5;241;43m.\u001b[39;49m\u001b[43mread\u001b[49m\u001b[43m(\u001b[49m\u001b[43m  \u001b[49m\u001b[38;5;66;43;03m# type: ignore[attr-defined]\u001b[39;49;00m\n\u001b[0;32m   1924\u001b[0m \u001b[43m        \u001b[49m\u001b[43mnrows\u001b[49m\n\u001b[0;32m   1925\u001b[0m \u001b[43m    \u001b[49m\u001b[43m)\u001b[49m\n\u001b[0;32m   1926\u001b[0m \u001b[38;5;28;01mexcept\u001b[39;00m \u001b[38;5;167;01mException\u001b[39;00m:\n\u001b[0;32m   1927\u001b[0m     \u001b[38;5;28mself\u001b[39m\u001b[38;5;241m.\u001b[39mclose()\n",
      "File \u001b[1;32mc:\\Users\\cjthe\\.virtualenvs\\HandsOnML-WafCVtei\\Lib\\site-packages\\pandas\\io\\parsers\\c_parser_wrapper.py:234\u001b[0m, in \u001b[0;36mCParserWrapper.read\u001b[1;34m(self, nrows)\u001b[0m\n\u001b[0;32m    232\u001b[0m \u001b[38;5;28;01mtry\u001b[39;00m:\n\u001b[0;32m    233\u001b[0m     \u001b[38;5;28;01mif\u001b[39;00m \u001b[38;5;28mself\u001b[39m\u001b[38;5;241m.\u001b[39mlow_memory:\n\u001b[1;32m--> 234\u001b[0m         chunks \u001b[38;5;241m=\u001b[39m \u001b[38;5;28;43mself\u001b[39;49m\u001b[38;5;241;43m.\u001b[39;49m\u001b[43m_reader\u001b[49m\u001b[38;5;241;43m.\u001b[39;49m\u001b[43mread_low_memory\u001b[49m\u001b[43m(\u001b[49m\u001b[43mnrows\u001b[49m\u001b[43m)\u001b[49m\n\u001b[0;32m    235\u001b[0m         \u001b[38;5;66;03m# destructive to chunks\u001b[39;00m\n\u001b[0;32m    236\u001b[0m         data \u001b[38;5;241m=\u001b[39m _concatenate_chunks(chunks)\n",
      "File \u001b[1;32mparsers.pyx:838\u001b[0m, in \u001b[0;36mpandas._libs.parsers.TextReader.read_low_memory\u001b[1;34m()\u001b[0m\n",
      "File \u001b[1;32mparsers.pyx:905\u001b[0m, in \u001b[0;36mpandas._libs.parsers.TextReader._read_rows\u001b[1;34m()\u001b[0m\n",
      "File \u001b[1;32mparsers.pyx:874\u001b[0m, in \u001b[0;36mpandas._libs.parsers.TextReader._tokenize_rows\u001b[1;34m()\u001b[0m\n",
      "File \u001b[1;32mparsers.pyx:891\u001b[0m, in \u001b[0;36mpandas._libs.parsers.TextReader._check_tokenize_status\u001b[1;34m()\u001b[0m\n",
      "File \u001b[1;32mparsers.pyx:2061\u001b[0m, in \u001b[0;36mpandas._libs.parsers.raise_parser_error\u001b[1;34m()\u001b[0m\n",
      "\u001b[1;31mParserError\u001b[0m: Error tokenizing data. C error: Expected 3 fields in line 5, saw 69\n"
     ]
    }
   ],
   "source": [
    "unemployment_rate_df = pd.read_csv('./ArgentinaEconomicAnalysis/datasets/unemployment_rate_data/API_SL.UEM.TOTL.ZS_DS2_en_csv_v2_277236.csv')"
   ]
  }
 ],
 "metadata": {
  "kernelspec": {
   "display_name": "HandsOnML-WafCVtei",
   "language": "python",
   "name": "python3"
  },
  "language_info": {
   "codemirror_mode": {
    "name": "ipython",
    "version": 3
   },
   "file_extension": ".py",
   "mimetype": "text/x-python",
   "name": "python",
   "nbconvert_exporter": "python",
   "pygments_lexer": "ipython3",
   "version": "3.11.9"
  }
 },
 "nbformat": 4,
 "nbformat_minor": 2
}
